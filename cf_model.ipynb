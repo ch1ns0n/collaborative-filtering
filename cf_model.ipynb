{
 "cells": [
  {
   "cell_type": "markdown",
   "id": "26c3663c",
   "metadata": {},
   "source": [
    "# **Import Library & Dataset**"
   ]
  },
  {
   "cell_type": "code",
   "execution_count": 58,
   "id": "8d48e757",
   "metadata": {},
   "outputs": [],
   "source": [
    "import pandas as pd\n",
    "import numpy as np\n",
    "import matplotlib.pyplot as plt\n",
    "import seaborn as sns\n",
    "import hnswlib\n",
    "from sklearn.metrics.pairwise import cosine_similarity\n",
    "from sklearn.preprocessing import MinMaxScaler"
   ]
  },
  {
   "cell_type": "code",
   "execution_count": 2,
   "id": "1de12241",
   "metadata": {},
   "outputs": [],
   "source": [
    "events = pd.read_csv(\"events.csv\")\n",
    "item_prop1 = pd.read_csv(\"item_properties_part1.csv\")\n",
    "item_prop2 = pd.read_csv(\"item_properties_part2.csv\")\n",
    "category_tree = pd.read_csv(\"category_tree.csv\")"
   ]
  },
  {
   "cell_type": "code",
   "execution_count": 3,
   "id": "683ddb18",
   "metadata": {},
   "outputs": [
    {
     "data": {
      "text/html": [
       "<div>\n",
       "<style scoped>\n",
       "    .dataframe tbody tr th:only-of-type {\n",
       "        vertical-align: middle;\n",
       "    }\n",
       "\n",
       "    .dataframe tbody tr th {\n",
       "        vertical-align: top;\n",
       "    }\n",
       "\n",
       "    .dataframe thead th {\n",
       "        text-align: right;\n",
       "    }\n",
       "</style>\n",
       "<table border=\"1\" class=\"dataframe\">\n",
       "  <thead>\n",
       "    <tr style=\"text-align: right;\">\n",
       "      <th></th>\n",
       "      <th>timestamp</th>\n",
       "      <th>visitorid</th>\n",
       "      <th>event</th>\n",
       "      <th>itemid</th>\n",
       "      <th>transactionid</th>\n",
       "    </tr>\n",
       "  </thead>\n",
       "  <tbody>\n",
       "    <tr>\n",
       "      <th>0</th>\n",
       "      <td>1433221332117</td>\n",
       "      <td>257597</td>\n",
       "      <td>view</td>\n",
       "      <td>355908</td>\n",
       "      <td>NaN</td>\n",
       "    </tr>\n",
       "    <tr>\n",
       "      <th>1</th>\n",
       "      <td>1433224214164</td>\n",
       "      <td>992329</td>\n",
       "      <td>view</td>\n",
       "      <td>248676</td>\n",
       "      <td>NaN</td>\n",
       "    </tr>\n",
       "    <tr>\n",
       "      <th>2</th>\n",
       "      <td>1433221999827</td>\n",
       "      <td>111016</td>\n",
       "      <td>view</td>\n",
       "      <td>318965</td>\n",
       "      <td>NaN</td>\n",
       "    </tr>\n",
       "    <tr>\n",
       "      <th>3</th>\n",
       "      <td>1433221955914</td>\n",
       "      <td>483717</td>\n",
       "      <td>view</td>\n",
       "      <td>253185</td>\n",
       "      <td>NaN</td>\n",
       "    </tr>\n",
       "    <tr>\n",
       "      <th>4</th>\n",
       "      <td>1433221337106</td>\n",
       "      <td>951259</td>\n",
       "      <td>view</td>\n",
       "      <td>367447</td>\n",
       "      <td>NaN</td>\n",
       "    </tr>\n",
       "    <tr>\n",
       "      <th>...</th>\n",
       "      <td>...</td>\n",
       "      <td>...</td>\n",
       "      <td>...</td>\n",
       "      <td>...</td>\n",
       "      <td>...</td>\n",
       "    </tr>\n",
       "    <tr>\n",
       "      <th>2756096</th>\n",
       "      <td>1438398785939</td>\n",
       "      <td>591435</td>\n",
       "      <td>view</td>\n",
       "      <td>261427</td>\n",
       "      <td>NaN</td>\n",
       "    </tr>\n",
       "    <tr>\n",
       "      <th>2756097</th>\n",
       "      <td>1438399813142</td>\n",
       "      <td>762376</td>\n",
       "      <td>view</td>\n",
       "      <td>115946</td>\n",
       "      <td>NaN</td>\n",
       "    </tr>\n",
       "    <tr>\n",
       "      <th>2756098</th>\n",
       "      <td>1438397820527</td>\n",
       "      <td>1251746</td>\n",
       "      <td>view</td>\n",
       "      <td>78144</td>\n",
       "      <td>NaN</td>\n",
       "    </tr>\n",
       "    <tr>\n",
       "      <th>2756099</th>\n",
       "      <td>1438398530703</td>\n",
       "      <td>1184451</td>\n",
       "      <td>view</td>\n",
       "      <td>283392</td>\n",
       "      <td>NaN</td>\n",
       "    </tr>\n",
       "    <tr>\n",
       "      <th>2756100</th>\n",
       "      <td>1438400163914</td>\n",
       "      <td>199536</td>\n",
       "      <td>view</td>\n",
       "      <td>152913</td>\n",
       "      <td>NaN</td>\n",
       "    </tr>\n",
       "  </tbody>\n",
       "</table>\n",
       "<p>2756101 rows × 5 columns</p>\n",
       "</div>"
      ],
      "text/plain": [
       "             timestamp  visitorid event  itemid  transactionid\n",
       "0        1433221332117     257597  view  355908            NaN\n",
       "1        1433224214164     992329  view  248676            NaN\n",
       "2        1433221999827     111016  view  318965            NaN\n",
       "3        1433221955914     483717  view  253185            NaN\n",
       "4        1433221337106     951259  view  367447            NaN\n",
       "...                ...        ...   ...     ...            ...\n",
       "2756096  1438398785939     591435  view  261427            NaN\n",
       "2756097  1438399813142     762376  view  115946            NaN\n",
       "2756098  1438397820527    1251746  view   78144            NaN\n",
       "2756099  1438398530703    1184451  view  283392            NaN\n",
       "2756100  1438400163914     199536  view  152913            NaN\n",
       "\n",
       "[2756101 rows x 5 columns]"
      ]
     },
     "execution_count": 3,
     "metadata": {},
     "output_type": "execute_result"
    }
   ],
   "source": [
    "events"
   ]
  },
  {
   "cell_type": "code",
   "execution_count": 4,
   "id": "334a1924",
   "metadata": {},
   "outputs": [
    {
     "data": {
      "text/html": [
       "<div>\n",
       "<style scoped>\n",
       "    .dataframe tbody tr th:only-of-type {\n",
       "        vertical-align: middle;\n",
       "    }\n",
       "\n",
       "    .dataframe tbody tr th {\n",
       "        vertical-align: top;\n",
       "    }\n",
       "\n",
       "    .dataframe thead th {\n",
       "        text-align: right;\n",
       "    }\n",
       "</style>\n",
       "<table border=\"1\" class=\"dataframe\">\n",
       "  <thead>\n",
       "    <tr style=\"text-align: right;\">\n",
       "      <th></th>\n",
       "      <th>timestamp</th>\n",
       "      <th>itemid</th>\n",
       "      <th>property</th>\n",
       "      <th>value</th>\n",
       "    </tr>\n",
       "  </thead>\n",
       "  <tbody>\n",
       "    <tr>\n",
       "      <th>0</th>\n",
       "      <td>1435460400000</td>\n",
       "      <td>460429</td>\n",
       "      <td>categoryid</td>\n",
       "      <td>1338</td>\n",
       "    </tr>\n",
       "    <tr>\n",
       "      <th>1</th>\n",
       "      <td>1441508400000</td>\n",
       "      <td>206783</td>\n",
       "      <td>888</td>\n",
       "      <td>1116713 960601 n277.200</td>\n",
       "    </tr>\n",
       "    <tr>\n",
       "      <th>2</th>\n",
       "      <td>1439089200000</td>\n",
       "      <td>395014</td>\n",
       "      <td>400</td>\n",
       "      <td>n552.000 639502 n720.000 424566</td>\n",
       "    </tr>\n",
       "    <tr>\n",
       "      <th>3</th>\n",
       "      <td>1431226800000</td>\n",
       "      <td>59481</td>\n",
       "      <td>790</td>\n",
       "      <td>n15360.000</td>\n",
       "    </tr>\n",
       "    <tr>\n",
       "      <th>4</th>\n",
       "      <td>1431831600000</td>\n",
       "      <td>156781</td>\n",
       "      <td>917</td>\n",
       "      <td>828513</td>\n",
       "    </tr>\n",
       "    <tr>\n",
       "      <th>...</th>\n",
       "      <td>...</td>\n",
       "      <td>...</td>\n",
       "      <td>...</td>\n",
       "      <td>...</td>\n",
       "    </tr>\n",
       "    <tr>\n",
       "      <th>10999994</th>\n",
       "      <td>1439694000000</td>\n",
       "      <td>86599</td>\n",
       "      <td>categoryid</td>\n",
       "      <td>618</td>\n",
       "    </tr>\n",
       "    <tr>\n",
       "      <th>10999995</th>\n",
       "      <td>1435460400000</td>\n",
       "      <td>153032</td>\n",
       "      <td>1066</td>\n",
       "      <td>n1020.000 424566</td>\n",
       "    </tr>\n",
       "    <tr>\n",
       "      <th>10999996</th>\n",
       "      <td>1440298800000</td>\n",
       "      <td>421788</td>\n",
       "      <td>888</td>\n",
       "      <td>35975 856003 37346</td>\n",
       "    </tr>\n",
       "    <tr>\n",
       "      <th>10999997</th>\n",
       "      <td>1437879600000</td>\n",
       "      <td>159792</td>\n",
       "      <td>400</td>\n",
       "      <td>n552.000 639502 n720.000 424566</td>\n",
       "    </tr>\n",
       "    <tr>\n",
       "      <th>10999998</th>\n",
       "      <td>1436065200000</td>\n",
       "      <td>464846</td>\n",
       "      <td>790</td>\n",
       "      <td>n410640.000</td>\n",
       "    </tr>\n",
       "  </tbody>\n",
       "</table>\n",
       "<p>10999999 rows × 4 columns</p>\n",
       "</div>"
      ],
      "text/plain": [
       "              timestamp  itemid    property                            value\n",
       "0         1435460400000  460429  categoryid                             1338\n",
       "1         1441508400000  206783         888          1116713 960601 n277.200\n",
       "2         1439089200000  395014         400  n552.000 639502 n720.000 424566\n",
       "3         1431226800000   59481         790                       n15360.000\n",
       "4         1431831600000  156781         917                           828513\n",
       "...                 ...     ...         ...                              ...\n",
       "10999994  1439694000000   86599  categoryid                              618\n",
       "10999995  1435460400000  153032        1066                 n1020.000 424566\n",
       "10999996  1440298800000  421788         888               35975 856003 37346\n",
       "10999997  1437879600000  159792         400  n552.000 639502 n720.000 424566\n",
       "10999998  1436065200000  464846         790                      n410640.000\n",
       "\n",
       "[10999999 rows x 4 columns]"
      ]
     },
     "execution_count": 4,
     "metadata": {},
     "output_type": "execute_result"
    }
   ],
   "source": [
    "item_prop1"
   ]
  },
  {
   "cell_type": "code",
   "execution_count": 5,
   "id": "8e7d7243",
   "metadata": {},
   "outputs": [
    {
     "data": {
      "text/html": [
       "<div>\n",
       "<style scoped>\n",
       "    .dataframe tbody tr th:only-of-type {\n",
       "        vertical-align: middle;\n",
       "    }\n",
       "\n",
       "    .dataframe tbody tr th {\n",
       "        vertical-align: top;\n",
       "    }\n",
       "\n",
       "    .dataframe thead th {\n",
       "        text-align: right;\n",
       "    }\n",
       "</style>\n",
       "<table border=\"1\" class=\"dataframe\">\n",
       "  <thead>\n",
       "    <tr style=\"text-align: right;\">\n",
       "      <th></th>\n",
       "      <th>timestamp</th>\n",
       "      <th>itemid</th>\n",
       "      <th>property</th>\n",
       "      <th>value</th>\n",
       "    </tr>\n",
       "  </thead>\n",
       "  <tbody>\n",
       "    <tr>\n",
       "      <th>0</th>\n",
       "      <td>1433041200000</td>\n",
       "      <td>183478</td>\n",
       "      <td>561</td>\n",
       "      <td>769062</td>\n",
       "    </tr>\n",
       "    <tr>\n",
       "      <th>1</th>\n",
       "      <td>1439694000000</td>\n",
       "      <td>132256</td>\n",
       "      <td>976</td>\n",
       "      <td>n26.400 1135780</td>\n",
       "    </tr>\n",
       "    <tr>\n",
       "      <th>2</th>\n",
       "      <td>1435460400000</td>\n",
       "      <td>420307</td>\n",
       "      <td>921</td>\n",
       "      <td>1149317 1257525</td>\n",
       "    </tr>\n",
       "    <tr>\n",
       "      <th>3</th>\n",
       "      <td>1431831600000</td>\n",
       "      <td>403324</td>\n",
       "      <td>917</td>\n",
       "      <td>1204143</td>\n",
       "    </tr>\n",
       "    <tr>\n",
       "      <th>4</th>\n",
       "      <td>1435460400000</td>\n",
       "      <td>230701</td>\n",
       "      <td>521</td>\n",
       "      <td>769062</td>\n",
       "    </tr>\n",
       "    <tr>\n",
       "      <th>...</th>\n",
       "      <td>...</td>\n",
       "      <td>...</td>\n",
       "      <td>...</td>\n",
       "      <td>...</td>\n",
       "    </tr>\n",
       "    <tr>\n",
       "      <th>9275898</th>\n",
       "      <td>1433646000000</td>\n",
       "      <td>236931</td>\n",
       "      <td>929</td>\n",
       "      <td>n12.000</td>\n",
       "    </tr>\n",
       "    <tr>\n",
       "      <th>9275899</th>\n",
       "      <td>1440903600000</td>\n",
       "      <td>455746</td>\n",
       "      <td>6</td>\n",
       "      <td>150169 639134</td>\n",
       "    </tr>\n",
       "    <tr>\n",
       "      <th>9275900</th>\n",
       "      <td>1439694000000</td>\n",
       "      <td>347565</td>\n",
       "      <td>686</td>\n",
       "      <td>610834</td>\n",
       "    </tr>\n",
       "    <tr>\n",
       "      <th>9275901</th>\n",
       "      <td>1433646000000</td>\n",
       "      <td>287231</td>\n",
       "      <td>867</td>\n",
       "      <td>769062</td>\n",
       "    </tr>\n",
       "    <tr>\n",
       "      <th>9275902</th>\n",
       "      <td>1442113200000</td>\n",
       "      <td>275768</td>\n",
       "      <td>888</td>\n",
       "      <td>888666 n10800.000 746840 1318567</td>\n",
       "    </tr>\n",
       "  </tbody>\n",
       "</table>\n",
       "<p>9275903 rows × 4 columns</p>\n",
       "</div>"
      ],
      "text/plain": [
       "             timestamp  itemid property                             value\n",
       "0        1433041200000  183478      561                            769062\n",
       "1        1439694000000  132256      976                   n26.400 1135780\n",
       "2        1435460400000  420307      921                   1149317 1257525\n",
       "3        1431831600000  403324      917                           1204143\n",
       "4        1435460400000  230701      521                            769062\n",
       "...                ...     ...      ...                               ...\n",
       "9275898  1433646000000  236931      929                           n12.000\n",
       "9275899  1440903600000  455746        6                     150169 639134\n",
       "9275900  1439694000000  347565      686                            610834\n",
       "9275901  1433646000000  287231      867                            769062\n",
       "9275902  1442113200000  275768      888  888666 n10800.000 746840 1318567\n",
       "\n",
       "[9275903 rows x 4 columns]"
      ]
     },
     "execution_count": 5,
     "metadata": {},
     "output_type": "execute_result"
    }
   ],
   "source": [
    "item_prop2"
   ]
  },
  {
   "cell_type": "code",
   "execution_count": 6,
   "id": "a9d11ba0",
   "metadata": {},
   "outputs": [
    {
     "data": {
      "text/html": [
       "<div>\n",
       "<style scoped>\n",
       "    .dataframe tbody tr th:only-of-type {\n",
       "        vertical-align: middle;\n",
       "    }\n",
       "\n",
       "    .dataframe tbody tr th {\n",
       "        vertical-align: top;\n",
       "    }\n",
       "\n",
       "    .dataframe thead th {\n",
       "        text-align: right;\n",
       "    }\n",
       "</style>\n",
       "<table border=\"1\" class=\"dataframe\">\n",
       "  <thead>\n",
       "    <tr style=\"text-align: right;\">\n",
       "      <th></th>\n",
       "      <th>categoryid</th>\n",
       "      <th>parentid</th>\n",
       "    </tr>\n",
       "  </thead>\n",
       "  <tbody>\n",
       "    <tr>\n",
       "      <th>0</th>\n",
       "      <td>1016</td>\n",
       "      <td>213.0</td>\n",
       "    </tr>\n",
       "    <tr>\n",
       "      <th>1</th>\n",
       "      <td>809</td>\n",
       "      <td>169.0</td>\n",
       "    </tr>\n",
       "    <tr>\n",
       "      <th>2</th>\n",
       "      <td>570</td>\n",
       "      <td>9.0</td>\n",
       "    </tr>\n",
       "    <tr>\n",
       "      <th>3</th>\n",
       "      <td>1691</td>\n",
       "      <td>885.0</td>\n",
       "    </tr>\n",
       "    <tr>\n",
       "      <th>4</th>\n",
       "      <td>536</td>\n",
       "      <td>1691.0</td>\n",
       "    </tr>\n",
       "    <tr>\n",
       "      <th>...</th>\n",
       "      <td>...</td>\n",
       "      <td>...</td>\n",
       "    </tr>\n",
       "    <tr>\n",
       "      <th>1664</th>\n",
       "      <td>49</td>\n",
       "      <td>1125.0</td>\n",
       "    </tr>\n",
       "    <tr>\n",
       "      <th>1665</th>\n",
       "      <td>1112</td>\n",
       "      <td>630.0</td>\n",
       "    </tr>\n",
       "    <tr>\n",
       "      <th>1666</th>\n",
       "      <td>1336</td>\n",
       "      <td>745.0</td>\n",
       "    </tr>\n",
       "    <tr>\n",
       "      <th>1667</th>\n",
       "      <td>689</td>\n",
       "      <td>207.0</td>\n",
       "    </tr>\n",
       "    <tr>\n",
       "      <th>1668</th>\n",
       "      <td>761</td>\n",
       "      <td>395.0</td>\n",
       "    </tr>\n",
       "  </tbody>\n",
       "</table>\n",
       "<p>1669 rows × 2 columns</p>\n",
       "</div>"
      ],
      "text/plain": [
       "      categoryid  parentid\n",
       "0           1016     213.0\n",
       "1            809     169.0\n",
       "2            570       9.0\n",
       "3           1691     885.0\n",
       "4            536    1691.0\n",
       "...          ...       ...\n",
       "1664          49    1125.0\n",
       "1665        1112     630.0\n",
       "1666        1336     745.0\n",
       "1667         689     207.0\n",
       "1668         761     395.0\n",
       "\n",
       "[1669 rows x 2 columns]"
      ]
     },
     "execution_count": 6,
     "metadata": {},
     "output_type": "execute_result"
    }
   ],
   "source": [
    "category_tree"
   ]
  },
  {
   "cell_type": "code",
   "execution_count": 7,
   "id": "656efaac",
   "metadata": {},
   "outputs": [],
   "source": [
    "item_props = pd.concat([item_prop1, item_prop2], axis=0)"
   ]
  },
  {
   "cell_type": "markdown",
   "id": "b1f440c2",
   "metadata": {},
   "source": [
    "# **Data Inspection**"
   ]
  },
  {
   "cell_type": "code",
   "execution_count": 8,
   "id": "92bc707f",
   "metadata": {},
   "outputs": [
    {
     "data": {
      "text/plain": [
       "timestamp              0\n",
       "visitorid              0\n",
       "event                  0\n",
       "itemid                 0\n",
       "transactionid    2733644\n",
       "dtype: int64"
      ]
     },
     "execution_count": 8,
     "metadata": {},
     "output_type": "execute_result"
    }
   ],
   "source": [
    "events.isnull().sum()"
   ]
  },
  {
   "cell_type": "code",
   "execution_count": 9,
   "id": "84bcb6b0",
   "metadata": {},
   "outputs": [
    {
     "data": {
      "text/plain": [
       "np.int64(460)"
      ]
     },
     "execution_count": 9,
     "metadata": {},
     "output_type": "execute_result"
    }
   ],
   "source": [
    "events.duplicated().sum()"
   ]
  },
  {
   "cell_type": "code",
   "execution_count": 10,
   "id": "1c6c232a",
   "metadata": {},
   "outputs": [
    {
     "data": {
      "text/plain": [
       "event\n",
       "view           2664312\n",
       "addtocart        69332\n",
       "transaction      22457\n",
       "Name: count, dtype: int64"
      ]
     },
     "execution_count": 10,
     "metadata": {},
     "output_type": "execute_result"
    }
   ],
   "source": [
    "events['event'].value_counts()"
   ]
  },
  {
   "cell_type": "code",
   "execution_count": 11,
   "id": "8aca718b",
   "metadata": {},
   "outputs": [
    {
     "name": "stdout",
     "output_type": "stream",
     "text": [
      "\n",
      "Rentang waktu data: 2015-05-03 03:00:04.384000 → 2015-09-18 02:59:47.788000\n"
     ]
    }
   ],
   "source": [
    "events['timestamp'] = pd.to_datetime(events['timestamp'], unit='ms')\n",
    "print(f\"\\nRentang waktu data: {events['timestamp'].min()} → {events['timestamp'].max()}\")"
   ]
  },
  {
   "cell_type": "code",
   "execution_count": 12,
   "id": "732b6a5b",
   "metadata": {},
   "outputs": [
    {
     "data": {
      "text/plain": [
       "(2756101, 5)"
      ]
     },
     "execution_count": 12,
     "metadata": {},
     "output_type": "execute_result"
    }
   ],
   "source": [
    "events.shape"
   ]
  },
  {
   "cell_type": "code",
   "execution_count": 13,
   "id": "9758047b",
   "metadata": {},
   "outputs": [
    {
     "data": {
      "text/plain": [
       "(20275902, 4)"
      ]
     },
     "execution_count": 13,
     "metadata": {},
     "output_type": "execute_result"
    }
   ],
   "source": [
    "item_props.shape"
   ]
  },
  {
   "cell_type": "markdown",
   "id": "3407adef",
   "metadata": {},
   "source": [
    "# **EDA**"
   ]
  },
  {
   "cell_type": "code",
   "execution_count": 14,
   "id": "94e18af5",
   "metadata": {},
   "outputs": [
    {
     "name": "stderr",
     "output_type": "stream",
     "text": [
      "C:\\Users\\user\\AppData\\Local\\Temp\\ipykernel_8936\\753278946.py:3: FutureWarning: \n",
      "\n",
      "Passing `palette` without assigning `hue` is deprecated and will be removed in v0.14.0. Assign the `x` variable to `hue` and set `legend=False` for the same effect.\n",
      "\n",
      "  sns.countplot(data=events, x='event', palette='pastel')\n"
     ]
    },
    {
     "data": {
      "image/png": "[encoded data removed]",
      "text/plain": [
       "<Figure size 600x400 with 1 Axes>"
      ]
     },
     "metadata": {},
     "output_type": "display_data"
    }
   ],
   "source": [
    "# Distribusi tipe event\n",
    "plt.figure(figsize=(6,4))\n",
    "sns.countplot(data=events, x='event', palette='pastel')\n",
    "plt.title(\"Distribusi Jenis Event\")\n",
    "plt.show()"
   ]
  },
  {
   "cell_type": "code",
   "execution_count": 15,
   "id": "e80b5295",
   "metadata": {},
   "outputs": [
    {
     "name": "stderr",
     "output_type": "stream",
     "text": [
      "C:\\Users\\user\\AppData\\Local\\Temp\\ipykernel_8936\\1622346674.py:4: FutureWarning: \n",
      "\n",
      "Passing `palette` without assigning `hue` is deprecated and will be removed in v0.14.0. Assign the `x` variable to `hue` and set `legend=False` for the same effect.\n",
      "\n",
      "  sns.barplot(x=top_items.index, y=top_items.values, palette='viridis')\n"
     ]
    },
    {
     "data": {
      "image/png": "[encoded data removed]",
      "text/plain": [
       "<Figure size 800x400 with 1 Axes>"
      ]
     },
     "metadata": {},
     "output_type": "display_data"
    }
   ],
   "source": [
    "# Top 10 item paling sering dilihat/dibeli\n",
    "top_items = events['itemid'].value_counts().head(10)\n",
    "plt.figure(figsize=(8,4))\n",
    "sns.barplot(x=top_items.index, y=top_items.values, palette='viridis')\n",
    "plt.title(\"Top 10 Produk Berdasarkan Frekuensi Event\")\n",
    "plt.xlabel(\"Item ID\")\n",
    "plt.ylabel(\"Jumlah Interaksi\")\n",
    "plt.show()"
   ]
  },
  {
   "cell_type": "code",
   "execution_count": 16,
   "id": "84ecc1b4",
   "metadata": {},
   "outputs": [
    {
     "name": "stderr",
     "output_type": "stream",
     "text": [
      "C:\\Users\\user\\AppData\\Local\\Temp\\ipykernel_8936\\3496688921.py:4: FutureWarning: \n",
      "\n",
      "Passing `palette` without assigning `hue` is deprecated and will be removed in v0.14.0. Assign the `x` variable to `hue` and set `legend=False` for the same effect.\n",
      "\n",
      "  sns.barplot(x=top_users.index.astype(str), y=top_users.values, palette='mako')\n"
     ]
    },
    {
     "data": {
      "image/png": "[encoded data removed]",
      "text/plain": [
       "<Figure size 800x400 with 1 Axes>"
      ]
     },
     "metadata": {},
     "output_type": "display_data"
    }
   ],
   "source": [
    "# Top 10 user paling aktif\n",
    "top_users = events['visitorid'].value_counts().head(10)\n",
    "plt.figure(figsize=(8,4))\n",
    "sns.barplot(x=top_users.index.astype(str), y=top_users.values, palette='mako')\n",
    "plt.title(\"Top 10 Pengguna Paling Aktif\")\n",
    "plt.xlabel(\"Visitor ID\")\n",
    "plt.ylabel(\"Jumlah Interaksi\")\n",
    "plt.show()"
   ]
  },
  {
   "cell_type": "code",
   "execution_count": 17,
   "id": "217e0c50",
   "metadata": {},
   "outputs": [
    {
     "name": "stderr",
     "output_type": "stream",
     "text": [
      "C:\\Users\\user\\AppData\\Local\\Temp\\ipykernel_8936\\731301441.py:3: FutureWarning: \n",
      "\n",
      "Passing `palette` without assigning `hue` is deprecated and will be removed in v0.14.0. Assign the `x` variable to `hue` and set `legend=False` for the same effect.\n",
      "\n",
      "  sns.barplot(x=event_counts.index, y=event_counts.values, palette='coolwarm')\n"
     ]
    },
    {
     "data": {
      "image/png": "[encoded data removed]",
      "text/plain": [
       "<Figure size 500x400 with 1 Axes>"
      ]
     },
     "metadata": {},
     "output_type": "display_data"
    }
   ],
   "source": [
    "event_counts = events['event'].value_counts(normalize=True) * 100\n",
    "plt.figure(figsize=(5,4))\n",
    "sns.barplot(x=event_counts.index, y=event_counts.values, palette='coolwarm')\n",
    "plt.title(\"Persentase Event (View → Add to Cart → Transaction)\")\n",
    "plt.ylabel(\"Persentase (%)\")\n",
    "plt.show()"
   ]
  },
  {
   "cell_type": "markdown",
   "id": "d594ab6d",
   "metadata": {},
   "source": [
    "# **Preprocessing**"
   ]
  },
  {
   "cell_type": "code",
   "execution_count": 18,
   "id": "6b5c307d",
   "metadata": {},
   "outputs": [],
   "source": [
    "events = events[events['event'].isin(['view', 'addtocart', 'transaction'])]"
   ]
  },
  {
   "cell_type": "code",
   "execution_count": 19,
   "id": "b910a4a7",
   "metadata": {},
   "outputs": [],
   "source": [
    "weight_map = {'view': 1, 'addtocart': 2, 'transaction': 3}\n",
    "events['weight'] = events['event'].map(weight_map)"
   ]
  },
  {
   "cell_type": "code",
   "execution_count": 20,
   "id": "6aca38ce",
   "metadata": {},
   "outputs": [],
   "source": [
    "np.random.seed(42)\n",
    "sample_items = np.random.choice(events['itemid'].unique(), size=5000, replace=False)\n",
    "events = events[events['itemid'].isin(sample_items)]"
   ]
  },
  {
   "cell_type": "code",
   "execution_count": 21,
   "id": "1083be7d",
   "metadata": {},
   "outputs": [
    {
     "name": "stdout",
     "output_type": "stream",
     "text": [
      "Unique users: 40831\n",
      "Unique items: 5000\n"
     ]
    }
   ],
   "source": [
    "print(\"Unique users:\", events['visitorid'].nunique())\n",
    "print(\"Unique items:\", events['itemid'].nunique())"
   ]
  },
  {
   "cell_type": "markdown",
   "id": "b8b658f9",
   "metadata": {},
   "source": [
    "# **Collaborative Filtering Using Cosine Similarity**"
   ]
  },
  {
   "cell_type": "code",
   "execution_count": 22,
   "id": "edf729fc",
   "metadata": {},
   "outputs": [
    {
     "name": "stdout",
     "output_type": "stream",
     "text": [
      "User–Item Matrix Shape: (40831, 5000)\n"
     ]
    }
   ],
   "source": [
    "user_item_matrix = events.pivot_table(\n",
    "    index='visitorid',\n",
    "    columns='itemid',\n",
    "    values='weight',\n",
    "    aggfunc='sum'\n",
    ").fillna(0)\n",
    "\n",
    "print(\"User–Item Matrix Shape:\", user_item_matrix.shape)"
   ]
  },
  {
   "cell_type": "code",
   "execution_count": 23,
   "id": "c5afec08",
   "metadata": {},
   "outputs": [],
   "source": [
    "user_sim_df = pd.DataFrame(\n",
    "    cosine_similarity(user_item_matrix),\n",
    "    index=user_item_matrix.index,\n",
    "    columns=user_item_matrix.index\n",
    ")"
   ]
  },
  {
   "cell_type": "code",
   "execution_count": 24,
   "id": "02085e6f",
   "metadata": {},
   "outputs": [],
   "source": [
    "def recommend_items(user_id, top_n=5):\n",
    "    \"\"\"Rekomendasi berdasarkan user mirip\"\"\"\n",
    "    if user_id not in user_sim_df.index:\n",
    "        return []\n",
    "    similar_users = user_sim_df[user_id].sort_values(ascending=False).index[1:6]\n",
    "    similar_users_items = user_item_matrix.loc[similar_users].sum(axis=0)\n",
    "    unseen_items = similar_users_items[user_item_matrix.loc[user_id] == 0]\n",
    "    return unseen_items.sort_values(ascending=False).head(top_n).index.tolist()"
   ]
  },
  {
   "cell_type": "code",
   "execution_count": 25,
   "id": "1158995b",
   "metadata": {},
   "outputs": [
    {
     "name": "stdout",
     "output_type": "stream",
     "text": [
      "Rekomendasi untuk user 54: [466845, 6, 117, 256, 312]\n"
     ]
    }
   ],
   "source": [
    "example_user = user_item_matrix.index[0]\n",
    "recommendations = recommend_items(example_user, top_n=5)\n",
    "print(f\"Rekomendasi untuk user {example_user}: {recommendations}\")"
   ]
  },
  {
   "cell_type": "code",
   "execution_count": 26,
   "id": "a7c3a3e4",
   "metadata": {},
   "outputs": [
    {
     "name": "stdout",
     "output_type": "stream",
     "text": [
      "                      timestamp  visitorid event  itemid  transactionid  \\\n",
      "1440443 2015-09-15 17:39:08.248         54  view   38965            NaN   \n",
      "1458055 2015-09-18 01:03:27.379         54  view   38965            NaN   \n",
      "\n",
      "         weight  \n",
      "1440443       1  \n",
      "1458055       1  \n"
     ]
    }
   ],
   "source": [
    "user_id = 54\n",
    "user_data = events[events['visitorid'] == user_id]\n",
    "print(user_data)"
   ]
  },
  {
   "cell_type": "code",
   "execution_count": 27,
   "id": "ce97090c",
   "metadata": {},
   "outputs": [
    {
     "name": "stdout",
     "output_type": "stream",
     "text": [
      "Index([1348163, 1150086,  530559,  371606, 1297062,  163561,  152963,  850978,\n",
      "        892013,   26633],\n",
      "      dtype='int64', name='visitorid')\n"
     ]
    }
   ],
   "source": [
    "user_counts = events['visitorid'].value_counts()\n",
    "active_users = user_counts[user_counts > 10].index  # minimal 10 interaksi\n",
    "print(active_users[:10])"
   ]
  },
  {
   "cell_type": "code",
   "execution_count": 28,
   "id": "31f4f230",
   "metadata": {},
   "outputs": [],
   "source": [
    "recommend_for = active_users[0]"
   ]
  },
  {
   "cell_type": "code",
   "execution_count": 29,
   "id": "3cd0159d",
   "metadata": {},
   "outputs": [],
   "source": [
    "target_user = 1348163"
   ]
  },
  {
   "cell_type": "code",
   "execution_count": 30,
   "id": "80da3f50",
   "metadata": {},
   "outputs": [
    {
     "name": "stdout",
     "output_type": "stream",
     "text": [
      "event\n",
      "view    173\n",
      "Name: count, dtype: int64\n",
      "                     timestamp  visitorid event  itemid  transactionid  weight\n",
      "62796  2015-06-03 17:09:23.518    1348163  view  191049            NaN       1\n",
      "83783  2015-06-04 17:35:43.585    1348163  view  191049            NaN       1\n",
      "91547  2015-06-04 08:16:12.072    1348163  view  191049            NaN       1\n",
      "96247  2015-06-05 21:44:33.346    1348163  view  191049            NaN       1\n",
      "111122 2015-06-05 07:02:09.541    1348163  view  191049            NaN       1\n"
     ]
    }
   ],
   "source": [
    "user_data = events[events['visitorid'] == target_user]\n",
    "print(user_data['event'].value_counts())\n",
    "print(user_data.head())"
   ]
  },
  {
   "cell_type": "code",
   "execution_count": 31,
   "id": "f6624ac7",
   "metadata": {},
   "outputs": [],
   "source": [
    "user_sim_matrix = cosine_similarity(user_item_matrix)\n",
    "user_sim_df = pd.DataFrame(user_sim_matrix, \n",
    "                           index=user_item_matrix.index, \n",
    "                           columns=user_item_matrix.index)"
   ]
  },
  {
   "cell_type": "code",
   "execution_count": 32,
   "id": "af8bd177",
   "metadata": {},
   "outputs": [],
   "source": [
    "def recommend_items(user_id, top_n=5):\n",
    "    if user_id not in user_sim_df.index:\n",
    "        return []\n",
    "\n",
    "    # cari user paling mirip\n",
    "    similar_users = user_sim_df[user_id].sort_values(ascending=False).index[1:6]\n",
    "    \n",
    "    # ambil item yang sudah diinteraksikan oleh user mirip\n",
    "    similar_users_items = user_item_matrix.loc[similar_users].sum(axis=0)\n",
    "    \n",
    "    # item yang belum pernah dilihat user ini\n",
    "    items_seen = user_item_matrix.loc[user_id]\n",
    "    unseen_items = similar_users_items[items_seen == 0]\n",
    "    \n",
    "    # rekomendasi top N item\n",
    "    recommendations = unseen_items.sort_values(ascending=False).head(top_n).index.tolist()\n",
    "    return recommendations"
   ]
  },
  {
   "cell_type": "code",
   "execution_count": 33,
   "id": "95af92d8",
   "metadata": {},
   "outputs": [
    {
     "name": "stdout",
     "output_type": "stream",
     "text": [
      "Rekomendasi untuk user 1348163: [466845, 6, 117, 256, 312]\n"
     ]
    }
   ],
   "source": [
    "recommended_items = recommend_items(target_user, top_n=5)\n",
    "print(f\"Rekomendasi untuk user {target_user}: {recommended_items}\")"
   ]
  },
  {
   "cell_type": "markdown",
   "id": "f4328d20",
   "metadata": {},
   "source": [
    "# **Content Based Filtering Using HNSW**"
   ]
  },
  {
   "cell_type": "code",
   "execution_count": 34,
   "id": "68805e6d",
   "metadata": {},
   "outputs": [],
   "source": [
    "valid_items = set(events['itemid'].unique()) & set(item_props['itemid'].unique())"
   ]
  },
  {
   "cell_type": "code",
   "execution_count": 35,
   "id": "4e49f61d",
   "metadata": {},
   "outputs": [
    {
     "name": "stdout",
     "output_type": "stream",
     "text": [
      "Total item setelah sinkronisasi: 3983\n"
     ]
    }
   ],
   "source": [
    "# Filter dataset events dan item_props agar hanya berisi item valid\n",
    "events = events[events['itemid'].isin(valid_items)]\n",
    "item_props = item_props[item_props['itemid'].isin(valid_items)]\n",
    "\n",
    "print(f\"Total item setelah sinkronisasi: {len(valid_items)}\")"
   ]
  },
  {
   "cell_type": "code",
   "execution_count": 36,
   "id": "dd015641",
   "metadata": {},
   "outputs": [],
   "source": [
    "item_categories = item_props[item_props['property'] == 'categoryid'][['itemid', 'value']]\n",
    "item_categories.rename(columns={'value': 'categoryid'}, inplace=True)\n",
    "\n",
    "item_categories['categoryid'] = item_categories['categoryid'].astype(int)"
   ]
  },
  {
   "cell_type": "code",
   "execution_count": 37,
   "id": "9b70ae50",
   "metadata": {},
   "outputs": [],
   "source": [
    "item_categories = item_categories.drop_duplicates(subset='itemid')"
   ]
  },
  {
   "cell_type": "code",
   "execution_count": 38,
   "id": "cc0fe173",
   "metadata": {},
   "outputs": [
    {
     "name": "stdout",
     "output_type": "stream",
     "text": [
      "Dimensi item_features: (3983, 649)\n"
     ]
    }
   ],
   "source": [
    "item_features = pd.get_dummies(item_categories.set_index('itemid')['categoryid'])\n",
    "\n",
    "print(f\"Dimensi item_features: {item_features.shape}\")"
   ]
  },
  {
   "cell_type": "code",
   "execution_count": 39,
   "id": "113aad24",
   "metadata": {},
   "outputs": [],
   "source": [
    "category_tree = category_tree.copy()\n",
    "\n",
    "# Isi NaN parentid dengan 0 terlebih dahulu\n",
    "category_tree['parentid'] = category_tree['parentid'].fillna(0)"
   ]
  },
  {
   "cell_type": "code",
   "execution_count": 40,
   "id": "93770a61",
   "metadata": {},
   "outputs": [],
   "source": [
    "category_tree = category_tree.copy()\n",
    "category_tree['categoryid'] = category_tree['categoryid'].astype(int)\n",
    "category_tree['parentid'] = category_tree['parentid'].astype(int)"
   ]
  },
  {
   "cell_type": "code",
   "execution_count": 41,
   "id": "96dc7589",
   "metadata": {},
   "outputs": [],
   "source": [
    "parent_map = dict(zip(category_tree['categoryid'], category_tree['parentid']))"
   ]
  },
  {
   "cell_type": "code",
   "execution_count": 42,
   "id": "13939f57",
   "metadata": {},
   "outputs": [],
   "source": [
    "def get_all_parents(cat_id, parent_map):\n",
    "    parents = []\n",
    "    visited = set()\n",
    "    while cat_id in parent_map and parent_map[cat_id] != 0 and cat_id not in visited:\n",
    "        visited.add(cat_id)\n",
    "        cat_id = parent_map[cat_id]\n",
    "        parents.append(cat_id)\n",
    "    return parents"
   ]
  },
  {
   "cell_type": "code",
   "execution_count": 43,
   "id": "2c8b0171",
   "metadata": {},
   "outputs": [],
   "source": [
    "expanded_rows = []\n",
    "for _, row in item_categories.iterrows():\n",
    "    parents = get_all_parents(row['categoryid'], parent_map)\n",
    "    for p in parents:\n",
    "        expanded_rows.append({'itemid': row['itemid'], 'categoryid': p})"
   ]
  },
  {
   "cell_type": "code",
   "execution_count": 44,
   "id": "6cb94fb9",
   "metadata": {},
   "outputs": [
    {
     "name": "stdout",
     "output_type": "stream",
     "text": [
      "Jumlah kategori unik sebelum ekspansi: 649\n",
      "Jumlah kategori unik setelah ekspansi: 895\n"
     ]
    }
   ],
   "source": [
    "expanded_df = pd.concat([item_categories, pd.DataFrame(expanded_rows)], ignore_index=True).drop_duplicates()\n",
    "\n",
    "print(f\"Jumlah kategori unik sebelum ekspansi: {item_categories['categoryid'].nunique()}\")\n",
    "print(f\"Jumlah kategori unik setelah ekspansi: {expanded_df['categoryid'].nunique()}\")"
   ]
  },
  {
   "cell_type": "code",
   "execution_count": 45,
   "id": "57f01eed",
   "metadata": {},
   "outputs": [
    {
     "name": "stdout",
     "output_type": "stream",
     "text": [
      "Bentuk fitur item: (3983, 895)\n"
     ]
    }
   ],
   "source": [
    "item_features = pd.get_dummies(expanded_df.set_index('itemid')['categoryid'])\n",
    "item_features = item_features.groupby('itemid').max()  # kalau ada duplikat kategori\n",
    "print(f\"Bentuk fitur item: {item_features.shape}\")"
   ]
  },
  {
   "cell_type": "code",
   "execution_count": 46,
   "id": "84963b55",
   "metadata": {},
   "outputs": [],
   "source": [
    "data = item_features.values.astype('float32')\n",
    "ids = np.arange(data.shape[0])\n",
    "\n",
    "dim = data.shape[1]\n",
    "num_elements = data.shape[0]"
   ]
  },
  {
   "cell_type": "code",
   "execution_count": 47,
   "id": "1f550ff0",
   "metadata": {},
   "outputs": [],
   "source": [
    "index = hnswlib.Index(space='cosine', dim=dim)\n",
    "index.init_index(max_elements=num_elements, ef_construction=200, M=64)\n",
    "index.add_items(data, ids)\n",
    "index.set_ef(50)\n"
   ]
  },
  {
   "cell_type": "code",
   "execution_count": 48,
   "id": "6d017cea",
   "metadata": {},
   "outputs": [
    {
     "name": "stdout",
     "output_type": "stream",
     "text": [
      "HNSW index berhasil dibangun untuk 3983 item (dimensi: 895)\n"
     ]
    }
   ],
   "source": [
    "print(f\"HNSW index berhasil dibangun untuk {num_elements} item (dimensi: {dim})\")"
   ]
  },
  {
   "cell_type": "code",
   "execution_count": 49,
   "id": "fd04f232",
   "metadata": {},
   "outputs": [
    {
     "name": "stdout",
     "output_type": "stream",
     "text": [
      "HNSW index dibangun untuk 3983 item, dimensi: 895\n"
     ]
    }
   ],
   "source": [
    "index = hnswlib.Index(space='cosine', dim=dim)\n",
    "index.init_index(max_elements=num_elements, ef_construction=200, M=64)\n",
    "index.add_items(data, ids)\n",
    "index.set_ef(50)\n",
    "\n",
    "print(f\"HNSW index dibangun untuk {num_elements} item, dimensi: {dim}\")"
   ]
  },
  {
   "cell_type": "code",
   "execution_count": 50,
   "id": "a9fa58f1",
   "metadata": {},
   "outputs": [],
   "source": [
    "def get_similar_items(item_id, top_n=5):\n",
    "    if item_id not in item_features.index:\n",
    "        return \"Item tidak ditemukan.\"\n",
    "\n",
    "    item_idx = item_features.index.get_loc(item_id)\n",
    "    labels, distances = index.knn_query(data[item_idx], k=top_n + 1)  # +1 untuk item itu sendiri\n",
    "    \n",
    "    similar_indices = labels[0][1:]  # skip item itu sendiri\n",
    "    similar_items = item_features.index[similar_indices]\n",
    "    return list(similar_items)"
   ]
  },
  {
   "cell_type": "code",
   "execution_count": 51,
   "id": "b2b8736c",
   "metadata": {},
   "outputs": [
    {
     "name": "stdout",
     "output_type": "stream",
     "text": [
      "Rekomendasi item mirip untuk 6:\n",
      "[56944, 140284, 144466, 417786, 457184]\n"
     ]
    }
   ],
   "source": [
    "example_item = item_features.index[0]\n",
    "print(f\"Rekomendasi item mirip untuk {example_item}:\")\n",
    "print(get_similar_items(example_item, top_n=5))"
   ]
  },
  {
   "cell_type": "markdown",
   "id": "26816795",
   "metadata": {},
   "source": [
    "# **Hybrid Recommender System**"
   ]
  },
  {
   "cell_type": "code",
   "execution_count": 52,
   "id": "9ca44927",
   "metadata": {},
   "outputs": [],
   "source": [
    "def hybrid_recommendation(user_id, top_n=5, min_interactions=3):\n",
    "    \"\"\"\n",
    "    Hybrid Recommendation:\n",
    "    - Jika user memiliki cukup interaksi (>= min_interactions) → Collaborative Filtering\n",
    "    - Jika user baru / sedikit interaksi → Content-Based Filtering (HNSW)\n",
    "    \"\"\"\n",
    "\n",
    "    # --- 1️⃣ Cek apakah user ada dalam data\n",
    "    if user_id not in user_item_matrix.index:\n",
    "        print(f\"User {user_id} tidak ditemukan dalam dataset.\")\n",
    "        return []\n",
    "\n",
    "    # --- 2️⃣ Ambil interaksi user\n",
    "    user_interactions = user_item_matrix.loc[user_id]\n",
    "    interacted_items = user_interactions[user_interactions > 0].index.tolist()\n",
    "\n",
    "    # --- 3️⃣ Tentukan metode berdasarkan jumlah interaksi\n",
    "    if len(interacted_items) >= min_interactions:\n",
    "        # ===========================\n",
    "        # COLLABORATIVE FILTERING\n",
    "        # ===========================\n",
    "        similar_users = user_sim_df[user_id].sort_values(ascending=False).index[1:6]\n",
    "        similar_users_items = user_item_matrix.loc[similar_users].sum(axis=0)\n",
    "        unseen_items = similar_users_items[user_item_matrix.loc[user_id] == 0]\n",
    "        rec_items = unseen_items.sort_values(ascending=False).head(top_n).index.tolist()\n",
    "        method = \"Collaborative Filtering\"\n",
    "    \n",
    "    else:\n",
    "        # ===========================\n",
    "        # CONTENT-BASED FILTERING (HNSW)\n",
    "        # ===========================\n",
    "        if len(interacted_items) > 0:\n",
    "            last_item = interacted_items[-1]\n",
    "        else:\n",
    "            # Jika user belum pernah interaksi sama sekali, pilih item random\n",
    "            last_item = np.random.choice(item_features.index)\n",
    "        \n",
    "        rec_items = get_similar_items(last_item, top_n=top_n)\n",
    "        method = \"Content-Based (HNSW)\"\n",
    "\n",
    "    # --- 4️⃣ Hasil rekomendasi\n",
    "    print(f\"\\n🔹 Metode yang digunakan: {method}\")\n",
    "    print(f\"🔹 User ID: {user_id}\")\n",
    "    print(f\"🔹 Item yang direkomendasikan: {rec_items}\")\n",
    "    return rec_items"
   ]
  },
  {
   "cell_type": "code",
   "execution_count": 53,
   "id": "1613c6a7",
   "metadata": {},
   "outputs": [
    {
     "name": "stdout",
     "output_type": "stream",
     "text": [
      "\n",
      "🔹 Metode yang digunakan: Content-Based (HNSW)\n",
      "🔹 User ID: 54\n",
      "🔹 Item yang direkomendasikan: [82831, 136815, 137266, 428420, 449962, 26634, 53698, 97722, 163076, 432435]\n"
     ]
    },
    {
     "data": {
      "text/plain": [
       "[82831, 136815, 137266, 428420, 449962, 26634, 53698, 97722, 163076, 432435]"
      ]
     },
     "execution_count": 53,
     "metadata": {},
     "output_type": "execute_result"
    }
   ],
   "source": [
    "target_user = 54\n",
    "hybrid_recommendation(target_user, top_n=10)"
   ]
  },
  {
   "cell_type": "markdown",
   "id": "4c1cace9",
   "metadata": {},
   "source": [
    "# **Optimize Hybrid Recommender System**"
   ]
  },
  {
   "cell_type": "code",
   "execution_count": 54,
   "id": "c647aa4c",
   "metadata": {},
   "outputs": [],
   "source": [
    "def get_similar_items(item_id, top_n=5):\n",
    "    if item_id not in item_features.index:\n",
    "        return []  # hindari error, return kosong\n",
    "\n",
    "    item_idx = item_features.index.get_loc(item_id)\n",
    "    labels, distances = index.knn_query(data[item_idx], k=top_n + 1)  # +1 = item itu sendiri\n",
    "    \n",
    "    similar_indices = labels[0][1:]  # lewati item itu sendiri\n",
    "    similar_items = item_features.index[similar_indices]\n",
    "    return list(similar_items)"
   ]
  },
  {
   "cell_type": "code",
   "execution_count": 55,
   "id": "5ac400de",
   "metadata": {},
   "outputs": [],
   "source": [
    "def hybrid_recommend(user_id, top_n=5):\n",
    "    # CASE A: jika user ada dalam collaborative filtering\n",
    "    if user_id in user_item_matrix.index:\n",
    "        print(f\"\\n🔹 Metode yang digunakan: Collaborative Filtering\")\n",
    "        recommended_items = recommend_items(user_id, top_n=top_n)\n",
    "        return recommended_items\n",
    "    \n",
    "    # CASE B: fallback → content-based\n",
    "    else:\n",
    "        print(f\"\\n🔹 Metode yang digunakan: Content-Based (HNSW)\")\n",
    "        \n",
    "        # Coba cari item terakhir yang pernah dilihat user ini\n",
    "        user_data = events[events['visitorid'] == user_id]\n",
    "        if user_data.empty:\n",
    "            # kalau user benar-benar baru, ambil item random\n",
    "            random_item = np.random.choice(item_features.index)\n",
    "            return get_similar_items(random_item, top_n)\n",
    "        \n",
    "        last_item = user_data.iloc[-1]['itemid']\n",
    "        return get_similar_items(last_item, top_n)"
   ]
  },
  {
   "cell_type": "code",
   "execution_count": 57,
   "id": "0d8ed243",
   "metadata": {},
   "outputs": [
    {
     "name": "stdout",
     "output_type": "stream",
     "text": [
      "\n",
      "🔹 Metode yang digunakan: Collaborative Filtering\n",
      "🔹 User ID: 1348163\n",
      "🔹 Item yang direkomendasikan: [466845, 6, 117, 256, 312]\n",
      "\n",
      "\n",
      "🔹 Metode yang digunakan: Content-Based (HNSW)\n",
      "🔹 User ID: 460429\n",
      "🔹 Item yang direkomendasikan: [240171, 344142, 351384, 373629, 430738]\n",
      "\n",
      "\n",
      "🔹 Metode yang digunakan: Collaborative Filtering\n",
      "🔹 User ID: 54\n",
      "🔹 Item yang direkomendasikan: [466845, 6, 117, 256, 312]\n",
      "\n",
      "\n",
      "🔹 Metode yang digunakan: Content-Based (HNSW)\n",
      "🔹 User ID: 6\n",
      "🔹 Item yang direkomendasikan: [92712, 164781, 235337, 338972, 418264]\n",
      "\n"
     ]
    }
   ],
   "source": [
    "test_users = [1348163, 460429, 54, 6]\n",
    "\n",
    "for uid in test_users:\n",
    "    recs = hybrid_recommend(uid, top_n=5)\n",
    "    print(f\"🔹 User ID: {uid}\")\n",
    "    print(f\"🔹 Item yang direkomendasikan: {recs}\\n\")"
   ]
  },
  {
   "cell_type": "markdown",
   "id": "bd865a07",
   "metadata": {},
   "source": [
    "# **Hybrid Weighting Recommender System**"
   ]
  },
  {
   "cell_type": "code",
   "execution_count": null,
   "id": "257d03b5",
   "metadata": {},
   "outputs": [],
   "source": [
    "def hybrid_weighted_recommend(user_id, top_n=5, alpha=0.7):\n",
    "    \"\"\"\n",
    "    Menggabungkan Collaborative Filtering + Content-Based (HNSW)\n",
    "    dengan bobot alpha.\n",
    "    \n",
    "    alpha → bobot CF (0–1)\n",
    "    (1-alpha) → bobot Content-Based\n",
    "    \"\"\"\n",
    "    # --- 1️⃣ Cek apakah user ada di user-item matrix\n",
    "    if user_id not in user_item_matrix.index:\n",
    "        print(f\"User {user_id} tidak ditemukan di data CF.\")\n",
    "        return []\n",
    "\n",
    "    # --- 2️⃣ Ambil interaksi user & item yang sudah dilihat\n",
    "    user_vector = user_item_matrix.loc[user_id]\n",
    "    interacted_items = user_vector[user_vector > 0].index.tolist()\n",
    "\n",
    "    if len(interacted_items) == 0:\n",
    "        print(f\"User {user_id} belum memiliki interaksi.\")\n",
    "        # fallback → pilih item random lalu gunakan HNSW\n",
    "        random_item = np.random.choice(item_features.index)\n",
    "        return get_similar_items(random_item, top_n=top_n)\n",
    "\n",
    "    # --- 3️⃣ (CF) Prediksi skor dari user-user similarity\n",
    "    similar_users = user_sim_df[user_id].sort_values(ascending=False).index[1:11]\n",
    "    cf_scores = user_item_matrix.loc[similar_users].sum(axis=0)\n",
    "\n",
    "    # --- 4️⃣ (Content-Based) Prediksi skor dari item terakhir\n",
    "    last_item = interacted_items[-1]\n",
    "    if last_item in item_features.index:\n",
    "        labels, distances = index.knn_query(\n",
    "            data[item_features.index.get_loc(last_item)], k=len(item_features)\n",
    "        )\n",
    "        cb_scores = 1 - distances[0]  # ubah jarak → skor kemiripan\n",
    "        cb_items = item_features.index[labels[0]]\n",
    "        cb_score_series = pd.Series(cb_scores, index=cb_items)\n",
    "    else:\n",
    "        cb_score_series = pd.Series(0, index=item_features.index)\n",
    "\n",
    "    # --- 5️⃣ Normalisasi kedua skor (biar skala setara)\n",
    "    scaler = MinMaxScaler()\n",
    "    cf_scores_scaled = pd.Series(\n",
    "        scaler.fit_transform(cf_scores.values.reshape(-1, 1)).flatten(),\n",
    "        index=cf_scores.index\n",
    "    )\n",
    "    cb_scores_scaled = pd.Series(\n",
    "        scaler.fit_transform(cb_score_series.values.reshape(-1, 1)).flatten(),\n",
    "        index=cb_score_series.index\n",
    "    )\n",
    "\n",
    "    # --- 6️⃣ Gabungkan skor dengan bobot alpha\n",
    "    hybrid_scores = alpha * cf_scores_scaled.add(\n",
    "        (1 - alpha) * cb_scores_scaled, fill_value=0\n",
    "    )\n",
    "\n",
    "    # --- 7️⃣ Hapus item yang sudah pernah dilihat user\n",
    "    hybrid_scores = hybrid_scores[~hybrid_scores.index.isin(interacted_items)]\n",
    "\n",
    "    # --- 8️⃣ Ambil top N item\n",
    "    recommended_items = hybrid_scores.sort_values(ascending=False).head(top_n).index.tolist()\n",
    "\n",
    "    # --- 9️⃣ Output\n",
    "    print(f\"\\n🔹 Metode: Hybrid Weighting (α={alpha})\")\n",
    "    print(f\"🔹 User ID: {user_id}\")\n",
    "    print(f\"🔹 Item direkomendasikan: {recommended_items}\")\n",
    "\n",
    "    return recommended_items"
   ]
  },
  {
   "cell_type": "code",
   "execution_count": null,
   "id": "c7af145e",
   "metadata": {},
   "outputs": [],
   "source": []
  }
 ],
 "metadata": {
  "kernelspec": {
   "display_name": "base",
   "language": "python",
   "name": "python3"
  },
  "language_info": {
   "codemirror_mode": {
    "name": "ipython",
    "version": 3
   },
   "file_extension": ".py",
   "mimetype": "text/x-python",
   "name": "python",
   "nbconvert_exporter": "python",
   "pygments_lexer": "ipython3",
   "version": "3.13.5"
  }
 },
 "nbformat": 4,
 "nbformat_minor": 5
}
